{
 "cells": [
  {
   "cell_type": "markdown",
   "id": "67a0bb32",
   "metadata": {},
   "source": [
    "#### Example 1: Temperature Conversion"
   ]
  },
  {
   "cell_type": "code",
   "execution_count": null,
   "id": "f0f96948",
   "metadata": {},
   "outputs": [
    {
     "name": "stdout",
     "output_type": "stream",
     "text": [
      "77.0\n",
      "25.0\n"
     ]
    }
   ],
   "source": [
    "def convert_temp(temp,unit):\n",
    "    \"\"\"This function converts temperature between Celsius and Fahrenheit\"\"\"\n",
    "    if unit == 'C':\n",
    "        return temp * 9/5 + 32 # Celsius To Fahrenheit\n",
    "    elif unit == 'F':\n",
    "        return (temp - 32) * 5/9 # Fahrenheit to celsius\n",
    "    else:\n",
    "        return None\n",
    "\n",
    "print(convert_temp(25,'C'))  \n",
    "print(convert_temp(77,'F'))               "
   ]
  },
  {
   "cell_type": "markdown",
   "id": "c27d38dd",
   "metadata": {},
   "source": [
    "#### Example 2: Password Strength Checker"
   ]
  },
  {
   "cell_type": "code",
   "execution_count": 2,
   "id": "7498b93f",
   "metadata": {},
   "outputs": [
    {
     "name": "stdout",
     "output_type": "stream",
     "text": [
      "False\n",
      "True\n"
     ]
    }
   ],
   "source": [
    "def is_strong_password(password):\n",
    "    \"\"\"This function checks if the password is strong or not\"\"\"\n",
    "    if len(password) < 8:\n",
    "        return False\n",
    "    if not any(char.isdigit() for char in password):\n",
    "        return False \n",
    "    if not any(char.islower() for char in password):\n",
    "        return False \n",
    "    if not any(char.isupper() for char in password):\n",
    "        return False \n",
    "    if not any(char in '!@#$%^&*()_+' for char in password):\n",
    "        return False\n",
    "    return True\n",
    "\n",
    "print(is_strong_password(\"WeakPwd\"))  \n",
    "print(is_strong_password(\"Str0ngPwd!\"))                       "
   ]
  },
  {
   "cell_type": "markdown",
   "id": "f59f898c",
   "metadata": {},
   "source": [
    "#### Example 3: Calculate the Total Cost Of Items In a Shopping Cart"
   ]
  },
  {
   "cell_type": "code",
   "execution_count": 4,
   "id": "f072b234",
   "metadata": {},
   "outputs": [
    {
     "name": "stdout",
     "output_type": "stream",
     "text": [
      "8.399999999999999\n"
     ]
    }
   ],
   "source": [
    "def cal_total_cost(cart):\n",
    "    total_cost = 0\n",
    "    for item in cart:\n",
    "        total_cost += item['price'] * item['quantity']\n",
    "\n",
    "    return total_cost    \n",
    "\n",
    "cart = [\n",
    "    {'name':'Apple', 'price':0.5, 'quantity':4},\n",
    "    {'name':'Mango', 'price':0.3, 'quantity':5},\n",
    "    {'name':'Banana', 'price':0.7, 'quantity':7}\n",
    "]\n",
    "\n",
    "total_cost = cal_total_cost(cart)\n",
    "print(total_cost)"
   ]
  },
  {
   "cell_type": "markdown",
   "id": "5ac10f6d",
   "metadata": {},
   "source": [
    "#### Example 4: Check IF a String Is Palindrome"
   ]
  },
  {
   "cell_type": "code",
   "execution_count": null,
   "id": "d7f991ea",
   "metadata": {},
   "outputs": [
    {
     "name": "stdout",
     "output_type": "stream",
     "text": [
      "True\n",
      "False\n"
     ]
    }
   ],
   "source": [
    "def is_palindrome(s):\n",
    "    s = s.lower().replace(\" \", \"\") # remove empty spaces\n",
    "    return s == s[::-1] # reverse of this specific string itself\n",
    "\n",
    "print(is_palindrome(\"A man a plan a canal Panama\"))\n",
    "print(is_palindrome(\"Hello\"))"
   ]
  },
  {
   "cell_type": "markdown",
   "id": "f5be5f79",
   "metadata": {},
   "source": [
    "#### Example 5: Calculate the factorials of a number using recursion"
   ]
  },
  {
   "cell_type": "code",
   "execution_count": 6,
   "id": "091e57c5",
   "metadata": {},
   "outputs": [
    {
     "name": "stdout",
     "output_type": "stream",
     "text": [
      "120\n"
     ]
    }
   ],
   "source": [
    "def factorial(n):\n",
    "    if n == 0:\n",
    "        return 1\n",
    "    else:\n",
    "        return n * factorial(n - 1) # let n=5 * factorial(n-1) = 4!\n",
    "    \n",
    "print(factorial(5))    "
   ]
  },
  {
   "cell_type": "markdown",
   "id": "04a1ea4c",
   "metadata": {},
   "source": [
    "#### Example 6: A Function To Read A File and count the frequency of each word"
   ]
  },
  {
   "cell_type": "code",
   "execution_count": null,
   "id": "2847faa8",
   "metadata": {},
   "outputs": [
    {
     "name": "stdout",
     "output_type": "stream",
     "text": [
      "{'hello': 1, 'world': 1, 'how': 1, 'are': 1, 'you': 1, 'my': 1, 'name': 1, 'is': 1, 'hafsa': 2}\n"
     ]
    }
   ],
   "source": [
    "def count_word_frequency(file_path):\n",
    "# the best way to read file path is by using open function\n",
    "# it is there in python where u can use or open any kind of file\n",
    "\n",
    "    word_count = {}\n",
    "    with open(file_path,'r') as file: # read it in read mode\n",
    "        for line in file:\n",
    "            words = line.split()\n",
    "            for word in words:\n",
    "                word = word.lower().strip('.,!?;:\"\\'')\n",
    "                word_count[word] = word_count.get(word,0) + 1\n",
    "    \n",
    "    return word_count\n",
    "\n",
    "filepath = 'sample.txt'\n",
    "word_frequency = count_word_frequency(filepath)\n",
    "print(word_frequency)"
   ]
  },
  {
   "cell_type": "markdown",
   "id": "c7c4d2e3",
   "metadata": {},
   "source": [
    "#### Example 7: Validate Email Address"
   ]
  },
  {
   "cell_type": "code",
   "execution_count": 10,
   "id": "07be1458",
   "metadata": {},
   "outputs": [
    {
     "name": "stdout",
     "output_type": "stream",
     "text": [
      "True\n",
      "False\n"
     ]
    }
   ],
   "source": [
    "import re\n",
    "\n",
    "def is_valid_email(email):\n",
    "    \"\"\"This function checks if the email is valid.\"\"\"\n",
    "    pattern = r'^[a-zA-Z0-9_.+-]+@[a-zA-Z0-9-]+\\.[a-zA-Z0-9-.]+$'\n",
    "    return re.match(pattern, email) is not None\n",
    "\n",
    "print(is_valid_email(\"test@example.com\"))  \n",
    "print(is_valid_email(\"invalid-email\")) "
   ]
  }
 ],
 "metadata": {
  "kernelspec": {
   "display_name": "base",
   "language": "python",
   "name": "python3"
  },
  "language_info": {
   "codemirror_mode": {
    "name": "ipython",
    "version": 3
   },
   "file_extension": ".py",
   "mimetype": "text/x-python",
   "name": "python",
   "nbconvert_exporter": "python",
   "pygments_lexer": "ipython3",
   "version": "3.13.5"
  }
 },
 "nbformat": 4,
 "nbformat_minor": 5
}
