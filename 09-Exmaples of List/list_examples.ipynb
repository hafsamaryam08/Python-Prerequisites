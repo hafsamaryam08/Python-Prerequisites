{
 "cells": [
  {
   "cell_type": "markdown",
   "id": "5303fb7c",
   "metadata": {},
   "source": [
    "### Example 1. Manage A To Do List\n",
    "- Create a To Do List To Keep Track OF Tasks"
   ]
  },
  {
   "cell_type": "code",
   "execution_count": null,
   "id": "eb60cc87",
   "metadata": {},
   "outputs": [
    {
     "name": "stdout",
     "output_type": "stream",
     "text": [
      "Complete your assignments before deadline!\n",
      "To Do List Remaining\n",
      "- Do Breakfast\n",
      "- Complete Assignments\n",
      "- Go outside\n",
      "- Walk on roof\n"
     ]
    }
   ],
   "source": [
    "#easy\n",
    "to_do_list=[\"Do Breakfast\", \"Watch K-drama\", \"Complete Assignments\"]\n",
    "\n",
    "to_do_list.append(\"Go outside\")\n",
    "to_do_list.append(\"Walk on roof\")\n",
    "\n",
    "to_do_list.remove(\"Watch K-drama\")\n",
    "\n",
    "if \"Complete Assignments\" in to_do_list:\n",
    "    print(\"Complete your assignments before deadline!\")\n",
    "\n",
    "print(\"To Do List Remaining\") \n",
    "for task in to_do_list:\n",
    "    print(f\"- {task}\")"
   ]
  },
  {
   "cell_type": "code",
   "execution_count": null,
   "id": "856eb100",
   "metadata": {},
   "outputs": [
    {
     "name": "stdout",
     "output_type": "stream",
     "text": [
      "My To-Do List:\n",
      "- Do Breakfast\n",
      "- Watch K-drama\n",
      "- Complete Assignments\n",
      "New task added: Watch K-dramas\n",
      "Updated List:\n",
      "- Pray Fajr\n",
      "- Do Breakfast\n",
      "- Watch K-drama\n",
      "- Complete Assignments\n",
      "- Watch K-dramas\n",
      "Sorted List:\n",
      "- Complete Assignments\n",
      "- Do Breakfast\n",
      "- Pray Fajr\n",
      "- Watch K-drama\n",
      "- Watch K-dramas\n",
      "Removed: Do Breakfast\n",
      "Reminder: Complete your assignments before deadline!\n",
      "You have 4 tasks remaining.\n",
      "To Do List Remaining:\n",
      "- Complete Assignments\n",
      "- Pray Fajr\n",
      "- Watch K-drama\n",
      "- Watch K-dramas\n"
     ]
    }
   ],
   "source": [
    "#complex\n",
    "to_do_list=[\"Do Breakfast\", \"Watch K-drama\", \"Complete Assignments\"]\n",
    "print(\"My To-Do List:\")\n",
    "for task in to_do_list:\n",
    "    print(f\"- {task}\")\n",
    "\n",
    "new_task = input(\"Enter a task to add: \")\n",
    "to_do_list.append(new_task)\n",
    "print(f\"New task added: {new_task}\")\n",
    "\n",
    "to_do_list.insert(0, \"Pray Fajr\")\n",
    "print(\"Updated List:\")\n",
    "for task in to_do_list:\n",
    "    print(f\"- {task}\")\n",
    "\n",
    "to_do_list.sort()\n",
    "print(\"Sorted List:\")\n",
    "for task in to_do_list:\n",
    "    print(f\"- {task}\")\n",
    "\n",
    "remove_task = input(\"Enter a task to remove: \")\n",
    "if remove_task in to_do_list:\n",
    "    to_do_list.remove(remove_task)\n",
    "    print(f\"Removed: {remove_task}\")\n",
    "else:\n",
    "    print(f\"'{remove_task}' is not in your to-do list.\")\n",
    "\n",
    "if \"Complete Assignments\" in to_do_list:\n",
    "    print(\"Reminder: Complete your assignments before deadline!\")\n",
    "\n",
    "print(f\"You have {len(to_do_list)} tasks remaining.\")\n",
    "\n",
    "print(\"To Do List Remaining:\") \n",
    "for task in to_do_list:\n",
    "    print(f\"- {task}\")"
   ]
  },
  {
   "cell_type": "markdown",
   "id": "637d36b7",
   "metadata": {},
   "source": [
    "### Example 2: Organizing Student Grades\n",
    "- Create a list to store and calculate average grades for students"
   ]
  },
  {
   "cell_type": "code",
   "execution_count": null,
   "id": "994d80d9",
   "metadata": {},
   "outputs": [
    {
     "name": "stdout",
     "output_type": "stream",
     "text": [
      "Average Grades: 88.00\n",
      "Highest Grade: 95\n",
      "Lowest Grade: 78\n"
     ]
    }
   ],
   "source": [
    "#easy\n",
    "grades=[85, 92, 78, 90, 88]\n",
    "\n",
    "grades.append(95)\n",
    "\n",
    "avg_grade=sum(grades)/len(grades)\n",
    "print(f\"Average Grades: {avg_grade:.2f}\")\n",
    "\n",
    "highest_grade = max(grades)\n",
    "lowest_grade = min(grades)\n",
    "print(f\"Highest Grade: {highest_grade}\")\n",
    "print(f\"Lowest Grade: {lowest_grade}\")"
   ]
  },
  {
   "cell_type": "code",
   "execution_count": null,
   "id": "ae7e454d",
   "metadata": {},
   "outputs": [
    {
     "name": "stdout",
     "output_type": "stream",
     "text": [
      "Zuna: Grades = [85, 90, 78], Average = 84.33\n",
      "Komz: Grades = [92, 88, 95], Average = 91.67\n",
      "Mrym: Grades = [75, 80, 90], Average = 81.67\n",
      "Mnur: Grades = [91, 84, 73], Average = 82.67\n",
      "Hfsa: Grades = [77, 80, 73], Average = 76.67\n",
      "Highest Grade: Komz = 91.67\n",
      "Lowest Grade: Hfsa = 76.67\n"
     ]
    }
   ],
   "source": [
    "#complex\n",
    "students = [\"Zuna\", \"Komz\", \"Mrym\", \"Mnur\", \"Hfsa\"]\n",
    "\n",
    "grades = [\n",
    "    [85, 90, 78],  \n",
    "    [92, 88, 95],  \n",
    "    [75, 80, 90],\n",
    "    [91, 84, 73],\n",
    "    [77, 80, 73]  \n",
    "]\n",
    "\n",
    "averages = []\n",
    "\n",
    "for i in range(len(students)):\n",
    "    std_name = students[i]\n",
    "    std_grades = grades[i]\n",
    "\n",
    "    average = sum(std_grades) / len(std_grades)\n",
    "    averages.append(average)\n",
    "\n",
    "    print(f\"{std_name}: Grades = {std_grades}, Average = {average:.2f}\")\n",
    "\n",
    "highest_avg = max(averages)\n",
    "lowest_avg = min(averages)\n",
    "\n",
    "high_index = averages.index(highest_avg)\n",
    "low_index = averages.index(lowest_avg)\n",
    "\n",
    "print(f\"Highest Grade: {students[high_index]} = {highest_avg:.2f}\")\n",
    "print(f\"Lowest Grade: {students[low_index]} = {lowest_avg:.2f}\")"
   ]
  },
  {
   "cell_type": "markdown",
   "id": "e357a680",
   "metadata": {},
   "source": [
    "### Example 3: Managing An Inventory\n",
    "- Use a list to manage inventory items in a store"
   ]
  },
  {
   "cell_type": "code",
   "execution_count": null,
   "id": "b473a66e",
   "metadata": {},
   "outputs": [
    {
     "name": "stdout",
     "output_type": "stream",
     "text": [
      "strawberries are out of stock.\n",
      "Inventory List:\n",
      "- apples\n",
      "- milk\n",
      "- bread\n",
      "- eggs\n"
     ]
    }
   ],
   "source": [
    "#easy\n",
    "inventory = [\"apples\", \"bananas\", \"milk\", \"bread\"]\n",
    "\n",
    "inventory.append(\"eggs\")\n",
    "\n",
    "inventory.remove(\"bananas\")\n",
    "\n",
    "item = \"strawberries\"\n",
    "if item in inventory:\n",
    "    print(f\"{item} are in stock.\")\n",
    "else:\n",
    "    print(f\"{item} are out of stock.\") \n",
    "\n",
    "print(\"Inventory List:\")  \n",
    "for item in inventory:\n",
    "    print(f\"- {item}\") "
   ]
  },
  {
   "cell_type": "code",
   "execution_count": 22,
   "id": "51230030",
   "metadata": {},
   "outputs": [
    {
     "name": "stdout",
     "output_type": "stream",
     "text": [
      "Inventory List: ['apples', 'bananas', 'milk', 'bread']\n",
      "After adding eggs: ['apples', 'bananas', 'milk', 'bread', 'eggs']\n",
      "After removing bananas: ['apples', 'milk', 'bread', 'eggs']\n",
      "Added jam at index 2: ['apples', 'milk', 'jam', 'bread', 'eggs']\n",
      "Replaced index 3 with butter: ['apples', 'milk', 'jam', 'butter', 'eggs']\n",
      "strawberries are out of stock.\n",
      "Total items in inventory: 5\n",
      "Updated Inventory List:\n",
      "- apples\n",
      "- milk\n",
      "- jam\n",
      "- butter\n",
      "- eggs\n"
     ]
    }
   ],
   "source": [
    "#complex\n",
    "inventory = [\"apples\", \"bananas\", \"milk\", \"bread\"]\n",
    "print(\"Inventory List:\", inventory)\n",
    "\n",
    "inventory.append(\"eggs\")\n",
    "print(\"After adding eggs:\", inventory)\n",
    "\n",
    "inventory.remove(\"bananas\")\n",
    "print(\"After removing bananas:\", inventory)\n",
    "\n",
    "inventory.insert(2, \"jam\")\n",
    "print(\"Added jam at index 2:\", inventory)\n",
    "\n",
    "inventory[3] = \"butter\"\n",
    "print(\"Replaced index 3 with butter:\", inventory)\n",
    "\n",
    "item = \"strawberries\"\n",
    "if item in inventory:\n",
    "    print(f\"{item} are in stock.\")\n",
    "else:\n",
    "    print(f\"{item} are out of stock.\") \n",
    "\n",
    "print(\"Total items in inventory:\", len(inventory))\n",
    "\n",
    "print(\"Updated Inventory List:\")  \n",
    "for item in inventory:\n",
    "    print(f\"- {item}\") "
   ]
  },
  {
   "cell_type": "markdown",
   "id": "1e52888b",
   "metadata": {},
   "source": [
    "### Example 4:Collecting User Feedback\n",
    "- Use a list to collect and analyze user feedback."
   ]
  },
  {
   "cell_type": "code",
   "execution_count": null,
   "id": "03bf3b92",
   "metadata": {},
   "outputs": [
    {
     "name": "stdout",
     "output_type": "stream",
     "text": [
      "Positive Feedback Count: 3\n",
      "User Feedback:\n",
      "- Great service!\n",
      "- Well Done!\n",
      "- Not Satisfied:(\n",
      "- Excellent experience!\n",
      "- Could be better!\n"
     ]
    }
   ],
   "source": [
    "#easy\n",
    "feedback = [\"Great service!\", \"Well Done!\", \"Not Satisfied:(\", \"Excellent experience!\"]\n",
    "\n",
    "feedback.append(\"Could be better!\")\n",
    "\n",
    "positive_feedback_count = sum(1 for comment in feedback if \"great\" in comment.lower() or \"excellent\" in comment.lower() or \"excellent\" in comment.lower())\n",
    "print(f\"Positive Feedback Count: {positive_feedback_count}\")\n",
    "\n",
    "print(\"User Feedback:\")\n",
    "for comment in feedback:\n",
    "    print(f\"- {comment}\")"
   ]
  },
  {
   "cell_type": "code",
   "execution_count": 30,
   "id": "f40ec73d",
   "metadata": {},
   "outputs": [
    {
     "name": "stdout",
     "output_type": "stream",
     "text": [
      "User Feedback:\n",
      "- Great service!\n",
      "- Well Done!\n",
      "- Not Satisfied:(\n",
      "- Excellent experience!\n",
      "- Could be better!\n",
      "- Loved it!\n",
      "Total Feedback Received: 6\n",
      "Positive Feedback Count: 4\n",
      "Negative Feedback Count: 1\n",
      "Neutral Feedback Count: 1\n"
     ]
    }
   ],
   "source": [
    "#complex\n",
    "feedback = [\"Great service!\", \"Well Done!\", \"Not Satisfied:(\", \"Excellent experience!\"]\n",
    "\n",
    "feedback.append(\"Could be better!\")\n",
    "feedback.append(\"Loved it!\")\n",
    "\n",
    "print(\"User Feedback:\")\n",
    "for comment in feedback:\n",
    "    print(f\"- {comment}\")\n",
    "\n",
    "positive_keywords = [\"great\", \"excellent\", \"well\", \"loved\", \"wonderful\"]\n",
    "negative_keywords = [\"not\", \"terrible\", \"bad\", \"poor\"]\n",
    "\n",
    "positive_feedback_count = 0\n",
    "negative_feedback_count = 0\n",
    "\n",
    "for comment in feedback:\n",
    "    comment_lower = comment.lower()\n",
    "\n",
    "    for word in positive_keywords:\n",
    "        if word in comment_lower:\n",
    "            positive_feedback_count += 1\n",
    "            break   \n",
    "\n",
    "    for word in negative_keywords:\n",
    "        if word in comment_lower:\n",
    "            negative_feedback_count += 1\n",
    "            break  \n",
    "\n",
    "print(f\"Total Feedback Received: {len(feedback)}\")\n",
    "print(f\"Positive Feedback Count: {positive_feedback_count}\")\n",
    "print(f\"Negative Feedback Count: {negative_feedback_count}\")\n",
    "print(f\"Neutral Feedback Count: {len(feedback) - (positive_feedback_count + negative_feedback_count)}\")"
   ]
  }
 ],
 "metadata": {
  "kernelspec": {
   "display_name": "base",
   "language": "python",
   "name": "python3"
  },
  "language_info": {
   "codemirror_mode": {
    "name": "ipython",
    "version": 3
   },
   "file_extension": ".py",
   "mimetype": "text/x-python",
   "name": "python",
   "nbconvert_exporter": "python",
   "pygments_lexer": "ipython3",
   "version": "3.13.5"
  }
 },
 "nbformat": 4,
 "nbformat_minor": 5
}
