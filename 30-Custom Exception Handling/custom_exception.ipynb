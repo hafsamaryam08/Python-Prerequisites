{
 "cells": [
  {
   "cell_type": "markdown",
   "id": "e6ac4d19",
   "metadata": {},
   "source": [
    "### Custom Exception (Raise and Throw an Exception)"
   ]
  },
  {
   "cell_type": "code",
   "execution_count": 3,
   "id": "de83c4c3",
   "metadata": {},
   "outputs": [],
   "source": [
    "class Error(Exception):\n",
    "    pass\n",
    "\n",
    "class dobException(Error):\n",
    "    pass"
   ]
  },
  {
   "cell_type": "code",
   "execution_count": 4,
   "id": "b8d6bfe4",
   "metadata": {},
   "outputs": [
    {
     "name": "stdout",
     "output_type": "stream",
     "text": [
      "Age should be greater than 20 and less than 30\n"
     ]
    }
   ],
   "source": [
    "year=int(input(\"Enter the dob\"))\n",
    "age=2025-year\n",
    "\n",
    "try:\n",
    "    if age<=30 and age>=20:\n",
    "        print(\"Age is valid\")\n",
    "    else:\n",
    "        raise dobException\n",
    "except dobException:\n",
    "    print(\"Age should be greater than 20 and less than 30\")"
   ]
  }
 ],
 "metadata": {
  "kernelspec": {
   "display_name": "base",
   "language": "python",
   "name": "python3"
  },
  "language_info": {
   "codemirror_mode": {
    "name": "ipython",
    "version": 3
   },
   "file_extension": ".py",
   "mimetype": "text/x-python",
   "name": "python",
   "nbconvert_exporter": "python",
   "pygments_lexer": "ipython3",
   "version": "3.13.5"
  }
 },
 "nbformat": 4,
 "nbformat_minor": 5
}
